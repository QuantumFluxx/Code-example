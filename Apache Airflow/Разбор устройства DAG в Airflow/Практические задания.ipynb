{
 "cells": [
  {
   "cell_type": "markdown",
   "id": "1f5607bc",
   "metadata": {},
   "source": [
    "## 1. Есть таски t1, t2, t3, t4. Какой способ задания связи между тасками будет корректным?\n",
    "\n",
    "* t2.set_downstream(t1) t2.set_downstream(t3) t2.set_downstream(t4) t4.set_downstream(t2)\n",
    "* **t1>>t2>>t4>>t3**\n",
    "* **t2.set_downstream(t1) t2.set_downstream(t3) t3.set_downstream(t4) t1.set_downstream(t4)**\n",
    "* t2>t1>t3>t4\n",
    "\n",
    "## 2. Соотнесите переменные из контекста и что они означают.\n",
    "\n",
    "`ds` - **Дата, с которой запустился DAG**\n",
    "\n",
    "`ti` - **Объект с текущим таском**\n",
    "\n",
    "`dag` - **Объект с текущим DAG**\n",
    "\n",
    "`ts` - **Дата и время, с которыми запустился DAG**\n",
    "\n",
    "## 3. Какие из вариантов задания DAG верные.\n",
    "\n",
    "* **dag1 = DAG(\"my_dag_name\") dag2 = DAG(\"my_other_dag_name\") t1 = DummyOperator(task_id=\"task1\", dag=dag1) t2 = DummyOperator(task_id=\"task2\", dag=dag2)**\n",
    "* dag1 = DAG(\"my_dag_name\") dag2 = DAG(\"my_dag_name\") t1 = DummyOperator(task_id=\"task1\", dag=dag1) t2 = DummyOperator(task_id=\"task2\", dag=dag2)\n",
    "* dag = DAG(\"my_dag_name\") t1 = DummyOperator(task_id=\"task\", dag=dag) t2 = DummyOperator(task_id=\"task\", dag=dag)\n",
    "* dag = DAG(\"my_dag_name\") t1 = DummyOperator(task_id=\"task\", dag=my_dag)\n",
    "\n",
    "## 4. Необходимо скопировать DAG из лекции - к себе\n",
    "```\n",
    "Необходимо выполнить:\n",
    "\n",
    "1) Поменять имена dag на уникальные (лучше всего как-то использовать свой логин).\n",
    "\n",
    "Поставить новую дату начала DAG и новый интервал (все еще должен быть ежедневным)\n",
    "\n",
    "2) Удалить таски get_stat и get_stat_com. Вместо них сделать свои собственные, которые\n",
    "\n",
    "считают следующие:\n",
    "\n",
    "Найти топ-10 доменных зон по численности доменов\n",
    "Найти домен с самым длинным именем (если их несколько, то взять только первый в алфавитном порядке)\n",
    "На каком месте находится домен airflow.com?\n",
    "3) Финальный таск должен писать в лог результат ответы на вопросы выше\n",
    "\n",
    "```"
   ]
  }
 ],
 "metadata": {
  "kernelspec": {
   "display_name": "Python 3 (ipykernel)",
   "language": "python",
   "name": "python3"
  },
  "language_info": {
   "codemirror_mode": {
    "name": "ipython",
    "version": 3
   },
   "file_extension": ".py",
   "mimetype": "text/x-python",
   "name": "python",
   "nbconvert_exporter": "python",
   "pygments_lexer": "ipython3",
   "version": "3.9.12"
  }
 },
 "nbformat": 4,
 "nbformat_minor": 5
}
